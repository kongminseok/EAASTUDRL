{
 "cells": [
  {
   "cell_type": "code",
   "execution_count": 1,
   "id": "c3873de6",
   "metadata": {},
   "outputs": [],
   "source": [
    "import warnings\n",
    "warnings.filterwarnings('ignore')"
   ]
  },
  {
   "cell_type": "code",
   "execution_count": 2,
   "id": "a874686d",
   "metadata": {
    "scrolled": true
   },
   "outputs": [
    {
     "name": "stderr",
     "output_type": "stream",
     "text": [
      "2024-04-16 10:45:48.159705: I tensorflow/core/platform/cpu_feature_guard.cc:142] Your CPU supports instructions that this TensorFlow binary was not compiled to use: AVX2 FMA\n",
      "2024-04-16 10:45:48.182490: I tensorflow/core/platform/profile_utils/cpu_utils.cc:94] CPU Frequency: 2799925000 Hz\n",
      "2024-04-16 10:45:48.183519: I tensorflow/compiler/xla/service/service.cc:168] XLA service 0x5660920 initialized for platform Host (this does not guarantee that XLA will be used). Devices:\n",
      "2024-04-16 10:45:48.183548: I tensorflow/compiler/xla/service/service.cc:176]   StreamExecutor device (0): Host, Default Version\n"
     ]
    },
    {
     "data": {
      "text/plain": [
       "[name: \"/device:CPU:0\"\n",
       " device_type: \"CPU\"\n",
       " memory_limit: 268435456\n",
       " locality {\n",
       " }\n",
       " incarnation: 12591387922068742382,\n",
       " name: \"/device:XLA_CPU:0\"\n",
       " device_type: \"XLA_CPU\"\n",
       " memory_limit: 17179869184\n",
       " locality {\n",
       " }\n",
       " incarnation: 1691449490717891113\n",
       " physical_device_desc: \"device: XLA_CPU device\"]"
      ]
     },
     "execution_count": 2,
     "metadata": {},
     "output_type": "execute_result"
    }
   ],
   "source": [
    "# GPU 사용가능 여부 확인\n",
    "from tensorflow.python.client import device_lib\n",
    "device_lib.list_local_devices()"
   ]
  },
  {
   "cell_type": "code",
   "execution_count": 3,
   "id": "c4b019d5",
   "metadata": {
    "scrolled": true
   },
   "outputs": [
    {
     "name": "stdout",
     "output_type": "stream",
     "text": [
      "3.7.16 (default, Jan 17 2023, 22:20:44) \n",
      "[GCC 11.2.0]\n"
     ]
    }
   ],
   "source": [
    "#파이썬 버전 확인\n",
    "import sys\n",
    "print(sys.version)"
   ]
  },
  {
   "cell_type": "code",
   "execution_count": 4,
   "id": "d3dccbbf",
   "metadata": {},
   "outputs": [
    {
     "data": {
      "text/plain": [
       "'1.15.4'"
      ]
     },
     "execution_count": 4,
     "metadata": {},
     "output_type": "execute_result"
    }
   ],
   "source": [
    "#텐서플로우 버전 확인\n",
    "import tensorflow as tf\n",
    "tf.__version__"
   ]
  },
  {
   "cell_type": "code",
   "execution_count": 5,
   "id": "6cfa267c",
   "metadata": {},
   "outputs": [],
   "source": [
    "import os\n",
    "os.environ[\"CUDA_VISIBLE_DEVICES\"] = \"/device:GPU:1\""
   ]
  },
  {
   "cell_type": "code",
   "execution_count": 6,
   "id": "ef5fef8b",
   "metadata": {},
   "outputs": [
    {
     "name": "stdout",
     "output_type": "stream",
     "text": [
      "WARNING:tensorflow:\n",
      "The TensorFlow contrib module will not be included in TensorFlow 2.0.\n",
      "For more information, please see:\n",
      "  * https://github.com/tensorflow/community/blob/master/rfcs/20180907-contrib-sunset.md\n",
      "  * https://github.com/tensorflow/addons\n",
      "  * https://github.com/tensorflow/io (for I/O related ops)\n",
      "If you depend on functionality not listed there, please file an issue.\n",
      "\n"
     ]
    },
    {
     "name": "stderr",
     "output_type": "stream",
     "text": [
      "No protocol specified\n"
     ]
    }
   ],
   "source": [
    "# common library\n",
    "import pandas as pd\n",
    "import numpy as np\n",
    "import time\n",
    "from stable_baselines.common.vec_env import DummyVecEnv\n",
    "# config\n",
    "from config.config_dji import *\n",
    "# preprocessor\n",
    "from preprocessing.preprocessors_dji import * # from folder.file import *\n",
    "# model\n",
    "from model.models_dji import *"
   ]
  },
  {
   "cell_type": "code",
   "execution_count": 7,
   "id": "481dbdb1",
   "metadata": {},
   "outputs": [
    {
     "data": {
      "text/plain": [
       "array([20090102, 20090102, 20090102, ..., 20200817, 20200817, 20200817])"
      ]
     },
     "metadata": {},
     "output_type": "display_data"
    },
    {
     "data": {
      "text/plain": [
       "87780"
      ]
     },
     "metadata": {},
     "output_type": "display_data"
    }
   ],
   "source": [
    "preprocessed_path = pd.read_csv(\"data/done_data.csv\")\n",
    "display(preprocessed_path.datadate.values)\n",
    "display(len(preprocessed_path))"
   ]
  },
  {
   "cell_type": "code",
   "execution_count": 8,
   "id": "9f947943",
   "metadata": {
    "scrolled": false
   },
   "outputs": [],
   "source": [
    "def run_model() -> None:\n",
    "    \"\"\"Train the model.\"\"\"\n",
    "\n",
    "    # read and preprocess data\n",
    "\n",
    "    preprocessed_path = \"data/done_data.csv\"\n",
    "    if os.path.exists(preprocessed_path):\n",
    "        data = pd.read_csv(preprocessed_path, index_col=0) # 0번째 column을 인덱스로 지정\n",
    "    else:\n",
    "        data = preprocess_data()\n",
    "        data = add_turbulence(data)\n",
    "        data.to_csv(preprocessed_path)\n",
    "\n",
    "\n",
    "    # print(data.head())\n",
    "    # print(data.size)\n",
    "    \n",
    "\n",
    "    # 2015/10/01 is the date that validation starts \n",
    "    # 2016/01/01 is the date that real trading starts\n",
    "    # unique_trade_date needs to start from 2015/10/01 for validation purpose\n",
    "    # 하지만 코드에 따르면 2015/10/02부터 validation 시작\n",
    "    \n",
    "    # trade는 2020년 07월 6일까지 됨\n",
    "    unique_trade_date = data[(data.datadate > 20151001)&(data.datadate <= 20200707)].datadate.unique()\n",
    "    #print(unique_trade_date)\n",
    "\n",
    "    # rebalance_window is the number of months to retrain the model\n",
    "    # validation_window is the number of months to validation the model and select for trading\n",
    "    rebalance_window = 63 # default=63\n",
    "    validation_window = 63 # default=63\n",
    "    \n",
    "    \n",
    "    ## Original Ensemble Strategy\n",
    "    #run_ensemble_strategy(df=data, \n",
    "    #                      unique_trade_date=unique_trade_date, \n",
    "    #                      rebalance_window=rebalance_window, \n",
    "    #                      validation_window=validation_window)\n",
    "    \n",
    "    ## Remake Ensemble\n",
    "    #run_remake_ensemble(df=data, \n",
    "    #              unique_trade_date= unique_trade_date,\n",
    "    #              rebalance_window = rebalance_window,\n",
    "    #              validation_window= validation_window)\n",
    "    \n",
    "    ## Renewal Ensemble2\n",
    "    #run_ensemble2(df=data, \n",
    "    #              unique_trade_date= unique_trade_date,\n",
    "    #              rebalance_window = rebalance_window,\n",
    "    #              validation_window= validation_window)\n",
    "    \n",
    "    ## PPO\n",
    "    #run_ppo(df=data, \n",
    "    #        unique_trade_date= unique_trade_date,\n",
    "    #        rebalance_window = rebalance_window,\n",
    "    #        validation_window= validation_window)\n",
    "    \n",
    "    # A2C\n",
    "    run_a2c(df=data, \n",
    "            unique_trade_date= unique_trade_date,\n",
    "            rebalance_window = rebalance_window,\n",
    "            validation_window= validation_window)\n",
    "    \n",
    "    ## DDPG\n",
    "    #run_ddpg(df=data, \n",
    "    #        unique_trade_date= unique_trade_date,\n",
    "    #        rebalance_window = rebalance_window,\n",
    "    #        validation_window= validation_window)\n",
    "    \n",
    "    ## ACKTR\n",
    "    #run_acktr(df=data, \n",
    "    #       unique_trade_date= unique_trade_date,\n",
    "    #        rebalance_window = rebalance_window,\n",
    "    #       validation_window= validation_window)\n",
    "    \n",
    "    ## TRPO\n",
    "    #run_trpo(df=data, \n",
    "    #        unique_trade_date= unique_trade_date,\n",
    "    #        rebalance_window = rebalance_window,\n",
    "    #        validation_window= validation_window)\n",
    "    \n",
    "    ## SAC\n",
    "    #run_sac(df=data, \n",
    "    #        unique_trade_date= unique_trade_date,\n",
    "    #        rebalance_window = rebalance_window,\n",
    "    #        validation_window= validation_window)\n",
    "    \n",
    "    ## TD3\n",
    "    #run_td3(df=data, \n",
    "    #        unique_trade_date= unique_trade_date,\n",
    "    #        rebalance_window = rebalance_window,\n",
    "    #        validation_window= validation_window)\n",
    "    \n",
    "    ## GAIL\n",
    "    #run_gail(df=data, \n",
    "    #        unique_trade_date= unique_trade_date,\n",
    "    #        rebalance_window = rebalance_window,\n",
    "    #        validation_window= validation_window)"
   ]
  },
  {
   "cell_type": "code",
   "execution_count": null,
   "id": "65c88dd7",
   "metadata": {},
   "outputs": [],
   "source": [
    "#_logger.info(f\"saving model version: {_version}\")\n",
    "if __name__ == \"__main__\":\n",
    "    strategy = tf.distribute.MirroredStrategy()\n",
    "    with strategy.scope():\n",
    "        run_model()"
   ]
  },
  {
   "cell_type": "code",
   "execution_count": null,
   "id": "c10d5fbf",
   "metadata": {},
   "outputs": [],
   "source": []
  }
 ],
 "metadata": {
  "kernelspec": {
   "display_name": "stock",
   "language": "python",
   "name": "python3"
  },
  "language_info": {
   "codemirror_mode": {
    "name": "ipython",
    "version": 3
   },
   "file_extension": ".py",
   "mimetype": "text/x-python",
   "name": "python",
   "nbconvert_exporter": "python",
   "pygments_lexer": "ipython3",
   "version": "3.7.16"
  }
 },
 "nbformat": 4,
 "nbformat_minor": 5
}
