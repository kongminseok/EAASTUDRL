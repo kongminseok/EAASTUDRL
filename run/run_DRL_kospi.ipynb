{
 "cells": [
  {
   "cell_type": "code",
   "execution_count": 1,
   "id": "9b0c2c18",
   "metadata": {},
   "outputs": [],
   "source": [
    "import warnings\n",
    "warnings.filterwarnings('ignore')"
   ]
  },
  {
   "cell_type": "code",
   "execution_count": 2,
   "id": "0171204d",
   "metadata": {
    "scrolled": true
   },
   "outputs": [
    {
     "name": "stderr",
     "output_type": "stream",
     "text": [
      "2024-04-16 09:25:12.689505: I tensorflow/core/platform/cpu_feature_guard.cc:142] Your CPU supports instructions that this TensorFlow binary was not compiled to use: AVX2 FMA\n",
      "2024-04-16 09:25:12.710492: I tensorflow/core/platform/profile_utils/cpu_utils.cc:94] CPU Frequency: 2799925000 Hz\n",
      "2024-04-16 09:25:12.711034: I tensorflow/compiler/xla/service/service.cc:168] XLA service 0x4164c80 initialized for platform Host (this does not guarantee that XLA will be used). Devices:\n",
      "2024-04-16 09:25:12.711048: I tensorflow/compiler/xla/service/service.cc:176]   StreamExecutor device (0): Host, Default Version\n"
     ]
    },
    {
     "data": {
      "text/plain": [
       "[name: \"/device:CPU:0\"\n",
       " device_type: \"CPU\"\n",
       " memory_limit: 268435456\n",
       " locality {\n",
       " }\n",
       " incarnation: 8844894492738805004,\n",
       " name: \"/device:XLA_CPU:0\"\n",
       " device_type: \"XLA_CPU\"\n",
       " memory_limit: 17179869184\n",
       " locality {\n",
       " }\n",
       " incarnation: 18227125204647683952\n",
       " physical_device_desc: \"device: XLA_CPU device\"]"
      ]
     },
     "execution_count": 2,
     "metadata": {},
     "output_type": "execute_result"
    }
   ],
   "source": [
    "# GPU 사용가능 여부 확인\n",
    "from tensorflow.python.client import device_lib\n",
    "device_lib.list_local_devices()"
   ]
  },
  {
   "cell_type": "code",
   "execution_count": 3,
   "id": "35d42bcc",
   "metadata": {
    "scrolled": true
   },
   "outputs": [
    {
     "name": "stdout",
     "output_type": "stream",
     "text": [
      "3.7.16 (default, Jan 17 2023, 22:20:44) \n",
      "[GCC 11.2.0]\n"
     ]
    }
   ],
   "source": [
    "#파이썬 버전 확인\n",
    "import sys\n",
    "print(sys.version)"
   ]
  },
  {
   "cell_type": "code",
   "execution_count": 4,
   "id": "e38f5730",
   "metadata": {},
   "outputs": [
    {
     "data": {
      "text/plain": [
       "'1.15.4'"
      ]
     },
     "execution_count": 4,
     "metadata": {},
     "output_type": "execute_result"
    }
   ],
   "source": [
    "#텐서플로우 버전 확인\n",
    "import tensorflow as tf\n",
    "tf.__version__"
   ]
  },
  {
   "cell_type": "code",
   "execution_count": 5,
   "id": "f6c55bcd",
   "metadata": {},
   "outputs": [],
   "source": [
    "import os\n",
    "os.environ[\"CUDA_VISIBLE_DEVICES\"] = \"/device:GPU:0\""
   ]
  },
  {
   "cell_type": "code",
   "execution_count": 6,
   "id": "5d043c7b",
   "metadata": {},
   "outputs": [
    {
     "name": "stdout",
     "output_type": "stream",
     "text": [
      "WARNING:tensorflow:\n",
      "The TensorFlow contrib module will not be included in TensorFlow 2.0.\n",
      "For more information, please see:\n",
      "  * https://github.com/tensorflow/community/blob/master/rfcs/20180907-contrib-sunset.md\n",
      "  * https://github.com/tensorflow/addons\n",
      "  * https://github.com/tensorflow/io (for I/O related ops)\n",
      "If you depend on functionality not listed there, please file an issue.\n",
      "\n"
     ]
    },
    {
     "name": "stderr",
     "output_type": "stream",
     "text": [
      "No protocol specified\n"
     ]
    }
   ],
   "source": [
    "# common library\n",
    "import pandas as pd\n",
    "import numpy as np\n",
    "import time\n",
    "from stable_baselines.common.vec_env import DummyVecEnv\n",
    "# config\n",
    "from config.config_kospi import *\n",
    "# preprocessor\n",
    "from preprocessing.preprocessors_kospi import * # from folder.file import *\n",
    "# model\n",
    "from model.models_kospi import *"
   ]
  },
  {
   "cell_type": "code",
   "execution_count": 7,
   "id": "73367b60",
   "metadata": {
    "scrolled": false
   },
   "outputs": [],
   "source": [
    "def run_model() -> None:\n",
    "    \"\"\"Train the model.\"\"\"\n",
    "\n",
    "    # read and preprocess data\n",
    "\n",
    "    preprocessed_path = \"data/kospi30_done_data.csv\"\n",
    "    if os.path.exists(preprocessed_path):\n",
    "        data = pd.read_csv(preprocessed_path, index_col=0) # 0번째 column을 인덱스로 지정\n",
    "    else:\n",
    "        data = preprocess_data()\n",
    "        data = add_turbulence(data)\n",
    "        data.to_csv(preprocessed_path)\n",
    "\n",
    "\n",
    "    # print(data.head())\n",
    "    # print(data.size)\n",
    "\n",
    "    # 2015/10/01 is the date that validation starts\n",
    "    # 2016/01/01 is the date that real trading starts\n",
    "    # unique_trade_date needs to start from 2015/10/01 for validation purpose\n",
    "    # 하지만 코드에 따르면 2015/10/02부터 validation 시작\n",
    "    \n",
    "    #2020/05/20까지 trading됨\n",
    "    unique_trade_date = data[(data.datadate > 20151001)].datadate.unique()\n",
    "    # print(unique_trade_date)\n",
    "    \n",
    "\n",
    "    # rebalance_window is the number of months to retrain the model\n",
    "    # validation_window is the number of months to validation the model and select for trading\n",
    "    rebalance_window = 63 # default=63\n",
    "    validation_window = 63 # default=63\n",
    "    \n",
    "    \n",
    "    ## Original Ensemble Strategy\n",
    "    #run_ensemble_strategy(df=data, \n",
    "    #                      unique_trade_date= unique_trade_date,\n",
    "    #                      rebalance_window = rebalance_window,\n",
    "    #                      validation_window= validation_window)\n",
    "\n",
    "    ## Remake Ensemble\n",
    "    #run_remake_ensemble(df=data, \n",
    "    #              unique_trade_date= unique_trade_date,\n",
    "    #              rebalance_window = rebalance_window,\n",
    "    #              validation_window= validation_window)\n",
    "    \n",
    "    ## Renewal Ensemble2\n",
    "    #run_ensemble2(df=data, \n",
    "    #              unique_trade_date= unique_trade_date,\n",
    "    #              rebalance_window = rebalance_window,\n",
    "    #              validation_window= validation_window)\n",
    "    \n",
    "\n",
    "    ## PPO\n",
    "    #run_ppo(df=data, \n",
    "    #        unique_trade_date= unique_trade_date,\n",
    "    #        rebalance_window = rebalance_window,\n",
    "    #        validation_window= validation_window)\n",
    "    \n",
    "    ## A2C\n",
    "    run_a2c(df=data, \n",
    "            unique_trade_date= unique_trade_date,\n",
    "            rebalance_window = rebalance_window,\n",
    "            validation_window= validation_window)\n",
    "    \n",
    "    ## DDPG\n",
    "    #run_ddpg(df=data, \n",
    "    #       unique_trade_date= unique_trade_date,\n",
    "    #       rebalance_window = rebalance_window,\n",
    "    #       validation_window= validation_window)\n",
    "    \n",
    "    ## ACKTR\n",
    "    #run_acktr(df=data, \n",
    "    #       unique_trade_date= unique_trade_date,\n",
    "    #        rebalance_window = rebalance_window,\n",
    "    #       validation_window= validation_window)\n",
    "    \n",
    "    ## TRPO\n",
    "    #run_trpo(df=data, \n",
    "    #        unique_trade_date= unique_trade_date,\n",
    "    #        rebalance_window = rebalance_window,\n",
    "    #        validation_window= validation_window)\n",
    "    \n",
    "    ## SAC\n",
    "    #run_sac(df=data, \n",
    "    #        unique_trade_date= unique_trade_date,\n",
    "    #        rebalance_window = rebalance_window,\n",
    "    #        validation_window= validation_window)\n",
    "    \n",
    "    ## TD3\n",
    "    #run_td3(df=data, \n",
    "    #        unique_trade_date= unique_trade_date,\n",
    "    #        rebalance_window = rebalance_window,\n",
    "    #        validation_window= validation_window)\n",
    "    \n",
    "    ## GAIL\n",
    "    #run_gail(df=data, \n",
    "    #        unique_trade_date= unique_trade_date,\n",
    "    #        rebalance_window = rebalance_window,\n",
    "    #        validation_window= validation_window)"
   ]
  },
  {
   "cell_type": "code",
   "execution_count": null,
   "id": "09e82f62",
   "metadata": {},
   "outputs": [],
   "source": [
    "#_logger.info(f\"saving model version: {_version}\")\n",
    "if __name__ == \"__main__\":\n",
    "    strategy = tf.distribute.MirroredStrategy()\n",
    "    with strategy.scope():\n",
    "        run_model()"
   ]
  },
  {
   "cell_type": "code",
   "execution_count": null,
   "id": "1860ab73",
   "metadata": {},
   "outputs": [],
   "source": []
  }
 ],
 "metadata": {
  "kernelspec": {
   "display_name": "trade",
   "language": "python",
   "name": "python3"
  },
  "language_info": {
   "codemirror_mode": {
    "name": "ipython",
    "version": 3
   },
   "file_extension": ".py",
   "mimetype": "text/x-python",
   "name": "python",
   "nbconvert_exporter": "python",
   "pygments_lexer": "ipython3",
   "version": "3.7.16"
  }
 },
 "nbformat": 4,
 "nbformat_minor": 5
}
