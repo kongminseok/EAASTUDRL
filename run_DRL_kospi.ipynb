{
 "cells": [
  {
   "cell_type": "code",
   "execution_count": null,
   "id": "0171204d",
   "metadata": {
    "scrolled": true
   },
   "outputs": [],
   "source": [
    "# GPU 사용가능 여부 확인\n",
    "from tensorflow.python.client import device_lib\n",
    "device_lib.list_local_devices()"
   ]
  },
  {
   "cell_type": "code",
   "execution_count": null,
   "id": "35d42bcc",
   "metadata": {
    "scrolled": true
   },
   "outputs": [],
   "source": [
    "#파이썬 버전 확인\n",
    "import sys\n",
    "print(sys.version)"
   ]
  },
  {
   "cell_type": "code",
   "execution_count": null,
   "id": "e38f5730",
   "metadata": {},
   "outputs": [],
   "source": [
    "#텐서플로우 버전 확인\n",
    "import tensorflow as tf\n",
    "tf.__version__"
   ]
  },
  {
   "cell_type": "code",
   "execution_count": null,
   "id": "f6c55bcd",
   "metadata": {},
   "outputs": [],
   "source": [
    "import os\n",
    "os.environ[\"CUDA_VISIBLE_DEVICES\"] = \"/device:GPU:0\""
   ]
  },
  {
   "cell_type": "code",
   "execution_count": null,
   "id": "5d043c7b",
   "metadata": {},
   "outputs": [],
   "source": [
    "# common library\n",
    "import pandas as pd\n",
    "import numpy as np\n",
    "import time\n",
    "from stable_baselines.common.vec_env import DummyVecEnv\n",
    "# config\n",
    "from config.config_kospi import *\n",
    "# preprocessor\n",
    "from preprocessing.preprocessors_kospi import * # from folder.file import *\n",
    "# model\n",
    "from model.models_kospi import *"
   ]
  },
  {
   "cell_type": "code",
   "execution_count": null,
   "id": "73367b60",
   "metadata": {
    "scrolled": false
   },
   "outputs": [],
   "source": [
    "def run_model() -> None:\n",
    "    \"\"\"Train the model.\"\"\"\n",
    "\n",
    "    # read and preprocess data\n",
    "\n",
    "    preprocessed_path = \"data/kospi30_done_data.csv\"\n",
    "    if os.path.exists(preprocessed_path):\n",
    "        data = pd.read_csv(preprocessed_path, index_col=0) # 0번째 column을 인덱스로 지정\n",
    "    else:\n",
    "        data = preprocess_data()\n",
    "        data = add_turbulence(data)\n",
    "        data.to_csv(preprocessed_path)\n",
    "\n",
    "\n",
    "    # print(data.head())\n",
    "    # print(data.size)\n",
    "\n",
    "    # 2015/10/01 is the date that validation starts\n",
    "    # 2016/01/01 is the date that real trading starts\n",
    "    # unique_trade_date needs to start from 2015/10/01 for validation purpose\n",
    "    # 하지만 코드에 따르면 2015/10/02부터 validation 시작\n",
    "    \n",
    "    #2020/05/20까지 trading됨\n",
    "    unique_trade_date = data[(data.datadate > 20151001)].datadate.unique()\n",
    "    # print(unique_trade_date)\n",
    "    \n",
    "\n",
    "    # rebalance_window is the number of months to retrain the model\n",
    "    # validation_window is the number of months to validation the model and select for trading\n",
    "    rebalance_window = 63 # default=63\n",
    "    validation_window = 63 # default=63\n",
    "    \n",
    "    \n",
    "    ## Original Ensemble Strategy\n",
    "    #run_ensemble_strategy(df=data, \n",
    "    #                      unique_trade_date= unique_trade_date,\n",
    "    #                      rebalance_window = rebalance_window,\n",
    "    #                      validation_window= validation_window)\n",
    "\n",
    "    ## Remake Ensemble\n",
    "    #run_remake_ensemble(df=data, \n",
    "    #              unique_trade_date= unique_trade_date,\n",
    "    #              rebalance_window = rebalance_window,\n",
    "    #              validation_window= validation_window)\n",
    "    \n",
    "    ## Renewal Ensemble2\n",
    "    #run_ensemble2(df=data, \n",
    "    #              unique_trade_date= unique_trade_date,\n",
    "    #              rebalance_window = rebalance_window,\n",
    "    #              validation_window= validation_window)\n",
    "    \n",
    "\n",
    "    ## PPO\n",
    "    #run_ppo(df=data, \n",
    "    #        unique_trade_date= unique_trade_date,\n",
    "    #        rebalance_window = rebalance_window,\n",
    "    #        validation_window= validation_window)\n",
    "    \n",
    "    ## A2C\n",
    "    run_a2c(df=data, \n",
    "            unique_trade_date= unique_trade_date,\n",
    "            rebalance_window = rebalance_window,\n",
    "            validation_window= validation_window)\n",
    "    \n",
    "    ## DDPG\n",
    "    #run_ddpg(df=data, \n",
    "    #       unique_trade_date= unique_trade_date,\n",
    "    #       rebalance_window = rebalance_window,\n",
    "    #       validation_window= validation_window)\n",
    "    \n",
    "    ## ACKTR\n",
    "    #run_acktr(df=data, \n",
    "    #       unique_trade_date= unique_trade_date,\n",
    "    #        rebalance_window = rebalance_window,\n",
    "    #       validation_window= validation_window)\n",
    "    \n",
    "    ## TRPO\n",
    "    #run_trpo(df=data, \n",
    "    #        unique_trade_date= unique_trade_date,\n",
    "    #        rebalance_window = rebalance_window,\n",
    "    #        validation_window= validation_window)\n",
    "    \n",
    "    ## SAC\n",
    "    #run_sac(df=data, \n",
    "    #        unique_trade_date= unique_trade_date,\n",
    "    #        rebalance_window = rebalance_window,\n",
    "    #        validation_window= validation_window)\n",
    "    \n",
    "    ## TD3\n",
    "    #run_td3(df=data, \n",
    "    #        unique_trade_date= unique_trade_date,\n",
    "    #        rebalance_window = rebalance_window,\n",
    "    #        validation_window= validation_window)\n",
    "    \n",
    "    ## GAIL\n",
    "    #run_gail(df=data, \n",
    "    #        unique_trade_date= unique_trade_date,\n",
    "    #        rebalance_window = rebalance_window,\n",
    "    #        validation_window= validation_window)\n",
    "\n",
    "\n",
    "#     #_logger.info(f\"saving model version: {_version}\")\n",
    "if __name__ == \"__main__\":\n",
    "    strategy = tf.distribute.MirroredStrategy()\n",
    "    with strategy.scope():\n",
    "        print(result)\n",
    "        run_model()"
   ]
  },
  {
   "cell_type": "markdown",
   "id": "c0c63cfd",
   "metadata": {},
   "source": [
    "-----------"
   ]
  }
 ],
 "metadata": {
  "interpreter": {
   "hash": "402a3c6c354aab4e06709d0fc8b763e4288b1adf77f6fe8f78597203d73d70ec"
  },
  "kernelspec": {
   "display_name": "k",
   "language": "python",
   "name": "k"
  },
  "language_info": {
   "codemirror_mode": {
    "name": "ipython",
    "version": 3
   },
   "file_extension": ".py",
   "mimetype": "text/x-python",
   "name": "python",
   "nbconvert_exporter": "python",
   "pygments_lexer": "ipython3",
   "version": "3.7.11"
  }
 },
 "nbformat": 4,
 "nbformat_minor": 5
}
